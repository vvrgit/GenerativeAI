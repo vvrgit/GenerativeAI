{
  "nbformat": 4,
  "nbformat_minor": 0,
  "metadata": {
    "colab": {
      "provenance": [],
      "authorship_tag": "ABX9TyPLHpV353ENX32X3B+oaf0g",
      "include_colab_link": true
    },
    "kernelspec": {
      "name": "python3",
      "display_name": "Python 3"
    },
    "language_info": {
      "name": "python"
    }
  },
  "cells": [
    {
      "cell_type": "markdown",
      "metadata": {
        "id": "view-in-github",
        "colab_type": "text"
      },
      "source": [
        "<a href=\"https://colab.research.google.com/github/vvrgit/GenerativeAI/blob/main/Generative_AI_Task1_Error_Computation.ipynb\" target=\"_parent\"><img src=\"https://colab.research.google.com/assets/colab-badge.svg\" alt=\"Open In Colab\"/></a>"
      ]
    },
    {
      "cell_type": "code",
      "execution_count": 1,
      "metadata": {
        "id": "Ka5dqRM4wmqE"
      },
      "outputs": [],
      "source": [
        "import numpy as np\n",
        "act=np.array([12,20,30,40,50])\n",
        "pre=np.array([12.5,20.3,30.4,40.6,50.8])"
      ]
    },
    {
      "cell_type": "code",
      "source": [
        "MSE=0\n",
        "MAE=0\n",
        "samples=len(act)\n",
        "for i in range(samples):\n",
        "  MSE=MSE+(act[i]-pre[i])**2\n",
        "  MAE=MAE+abs(act[i]-pre[i])\n",
        "MAE=MAE/samples\n",
        "MSE=MSE/samples\n",
        "RMSE=np.sqrt(MSE)\n",
        "print(\"Mean Absolte Error\", np.round(MAE,2))\n",
        "print(\"Mean Square Error\", np.round(MSE,2))\n",
        "print(\"Root Mean Square Error\", np.round(RMSE,2))"
      ],
      "metadata": {
        "colab": {
          "base_uri": "https://localhost:8080/"
        },
        "id": "uh1OTHL7xDE2",
        "outputId": "93b34f7d-476a-4179-aaa4-f6fc1382760a"
      },
      "execution_count": 19,
      "outputs": [
        {
          "output_type": "stream",
          "name": "stdout",
          "text": [
            "Mean Absolte Error 0.52\n",
            "Mean Square Error 0.3\n",
            "Root Mean Square Error 0.55\n"
          ]
        }
      ]
    },
    {
      "cell_type": "code",
      "source": [
        "import numpy as np\n",
        "act=np.array([0,1,2,1,1,2,2])\n",
        "pre=np.array([0,1,2,0,2,2,1])\n",
        "res = list(set(act))\n",
        "values=len(res)\n",
        "cm=np.zeros([values,values])"
      ],
      "metadata": {
        "id": "2ljFjZNDxDlD"
      },
      "execution_count": 25,
      "outputs": []
    },
    {
      "cell_type": "code",
      "source": [
        "for i in range(values):\n",
        "  for j in range(values):\n",
        "    if(act[i]==pre[j]):\n",
        "      cm[act[i],act[i]]=cm[act[i],act[i]]+1\n",
        "\n",
        "\n",
        "print(cm)"
      ],
      "metadata": {
        "colab": {
          "base_uri": "https://localhost:8080/"
        },
        "id": "f7-au55ZxRGC",
        "outputId": "96e95f2b-ba8a-4486-bcf9-50425204f2c9"
      },
      "execution_count": 28,
      "outputs": [
        {
          "output_type": "stream",
          "name": "stdout",
          "text": [
            "[[2. 0. 0.]\n",
            " [0. 2. 0.]\n",
            " [0. 0. 2.]]\n"
          ]
        }
      ]
    },
    {
      "cell_type": "code",
      "source": [],
      "metadata": {
        "id": "7JS55LcXzUXB"
      },
      "execution_count": null,
      "outputs": []
    }
  ]
}